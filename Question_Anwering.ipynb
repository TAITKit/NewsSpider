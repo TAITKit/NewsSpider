{
  "nbformat": 4,
  "nbformat_minor": 0,
  "metadata": {
    "colab": {
      "name": "Question_Anwering.ipynb",
      "version": "0.3.2",
      "provenance": [],
      "include_colab_link": true
    },
    "kernelspec": {
      "name": "python3",
      "display_name": "Python 3"
    },
    "accelerator": "GPU"
  },
  "cells": [
    {
      "cell_type": "markdown",
      "metadata": {
        "id": "view-in-github",
        "colab_type": "text"
      },
      "source": [
        "<a href=\"https://colab.research.google.com/github/TAITKit/NewsSpider/blob/master/Question_Anwering.ipynb\" target=\"_parent\"><img src=\"https://colab.research.google.com/assets/colab-badge.svg\" alt=\"Open In Colab\"/></a>"
      ]
    },
    {
      "cell_type": "markdown",
      "metadata": {
        "id": "hI5oPesUkjk-",
        "colab_type": "text"
      },
      "source": [
        "# Let's Start Question Answering"
      ]
    },
    {
      "cell_type": "markdown",
      "metadata": {
        "id": "R_Onen8_mGVp",
        "colab_type": "text"
      },
      "source": [
        "因為pytorch-transformers 在1.0.0版有許多的bug 所以我們這邊安裝master branch來使用"
      ]
    },
    {
      "cell_type": "code",
      "metadata": {
        "id": "glH-BDVOlW7e",
        "colab_type": "code",
        "outputId": "5a284cad-88bf-4974-9e32-c64e9f6db4f1",
        "colab": {
          "base_uri": "https://localhost:8080/",
          "height": 710
        }
      },
      "source": [
        "!pip install https://github.com/huggingface/pytorch-transformers/archive/master.zip"
      ],
      "execution_count": 0,
      "outputs": [
        {
          "output_type": "stream",
          "text": [
            "Collecting https://github.com/huggingface/pytorch-transformers/archive/master.zip\n",
            "\u001b[?25l  Downloading https://github.com/huggingface/pytorch-transformers/archive/master.zip (729kB)\n",
            "\u001b[K     |████████████████████████████████| 737kB 1.4MB/s \n",
            "\u001b[?25hRequirement already satisfied: torch>=1.0.0 in /usr/local/lib/python3.6/dist-packages (from pytorch-transformers==1.0.0) (1.1.0)\n",
            "Requirement already satisfied: numpy in /usr/local/lib/python3.6/dist-packages (from pytorch-transformers==1.0.0) (1.16.4)\n",
            "Requirement already satisfied: boto3 in /usr/local/lib/python3.6/dist-packages (from pytorch-transformers==1.0.0) (1.9.202)\n",
            "Requirement already satisfied: requests in /usr/local/lib/python3.6/dist-packages (from pytorch-transformers==1.0.0) (2.21.0)\n",
            "Requirement already satisfied: tqdm in /usr/local/lib/python3.6/dist-packages (from pytorch-transformers==1.0.0) (4.28.1)\n",
            "Collecting regex (from pytorch-transformers==1.0.0)\n",
            "\u001b[?25l  Downloading https://files.pythonhosted.org/packages/6f/4e/1b178c38c9a1a184288f72065a65ca01f3154df43c6ad898624149b8b4e0/regex-2019.06.08.tar.gz (651kB)\n",
            "\u001b[K     |████████████████████████████████| 655kB 1.4MB/s \n",
            "\u001b[?25hCollecting sentencepiece (from pytorch-transformers==1.0.0)\n",
            "\u001b[?25l  Downloading https://files.pythonhosted.org/packages/00/95/7f357995d5eb1131aa2092096dca14a6fc1b1d2860bd99c22a612e1d1019/sentencepiece-0.1.82-cp36-cp36m-manylinux1_x86_64.whl (1.0MB)\n",
            "\u001b[K     |████████████████████████████████| 1.0MB 56.6MB/s \n",
            "\u001b[?25hRequirement already satisfied: s3transfer<0.3.0,>=0.2.0 in /usr/local/lib/python3.6/dist-packages (from boto3->pytorch-transformers==1.0.0) (0.2.1)\n",
            "Requirement already satisfied: jmespath<1.0.0,>=0.7.1 in /usr/local/lib/python3.6/dist-packages (from boto3->pytorch-transformers==1.0.0) (0.9.4)\n",
            "Requirement already satisfied: botocore<1.13.0,>=1.12.202 in /usr/local/lib/python3.6/dist-packages (from boto3->pytorch-transformers==1.0.0) (1.12.202)\n",
            "Requirement already satisfied: urllib3<1.25,>=1.21.1 in /usr/local/lib/python3.6/dist-packages (from requests->pytorch-transformers==1.0.0) (1.24.3)\n",
            "Requirement already satisfied: chardet<3.1.0,>=3.0.2 in /usr/local/lib/python3.6/dist-packages (from requests->pytorch-transformers==1.0.0) (3.0.4)\n",
            "Requirement already satisfied: idna<2.9,>=2.5 in /usr/local/lib/python3.6/dist-packages (from requests->pytorch-transformers==1.0.0) (2.8)\n",
            "Requirement already satisfied: certifi>=2017.4.17 in /usr/local/lib/python3.6/dist-packages (from requests->pytorch-transformers==1.0.0) (2019.6.16)\n",
            "Requirement already satisfied: python-dateutil<3.0.0,>=2.1; python_version >= \"2.7\" in /usr/local/lib/python3.6/dist-packages (from botocore<1.13.0,>=1.12.202->boto3->pytorch-transformers==1.0.0) (2.5.3)\n",
            "Requirement already satisfied: docutils<0.15,>=0.10 in /usr/local/lib/python3.6/dist-packages (from botocore<1.13.0,>=1.12.202->boto3->pytorch-transformers==1.0.0) (0.14)\n",
            "Requirement already satisfied: six>=1.5 in /usr/local/lib/python3.6/dist-packages (from python-dateutil<3.0.0,>=2.1; python_version >= \"2.7\"->botocore<1.13.0,>=1.12.202->boto3->pytorch-transformers==1.0.0) (1.12.0)\n",
            "Building wheels for collected packages: pytorch-transformers, regex\n",
            "  Building wheel for pytorch-transformers (setup.py) ... \u001b[?25l\u001b[?25hdone\n",
            "  Created wheel for pytorch-transformers: filename=pytorch_transformers-1.0.0-cp36-none-any.whl size=146643 sha256=8dff68d05515a97efed23389a8d4c750ba6b60a96ac8af672f3e39648e44a380\n",
            "  Stored in directory: /tmp/pip-ephem-wheel-cache-3khe8a4f/wheels/ed/40/62/e03c357e0619c4ad7f0cc214fed82e91fd485b4321b74fb3ee\n",
            "  Building wheel for regex (setup.py) ... \u001b[?25l\u001b[?25hdone\n",
            "  Created wheel for regex: filename=regex-2019.6.8-cp36-cp36m-linux_x86_64.whl size=604155 sha256=1fa09cbb27ee3097a653fff50ed4cfe745891724e0615f101d3d932c1db1f50f\n",
            "  Stored in directory: /root/.cache/pip/wheels/35/e4/80/abf3b33ba89cf65cd262af8a22a5a999cc28fbfabea6b38473\n",
            "Successfully built pytorch-transformers regex\n",
            "Installing collected packages: regex, sentencepiece, pytorch-transformers\n",
            "Successfully installed pytorch-transformers-1.0.0 regex-2019.6.8 sentencepiece-0.1.82\n"
          ],
          "name": "stdout"
        }
      ]
    },
    {
      "cell_type": "code",
      "metadata": {
        "id": "Pb7dCRxADPSJ",
        "colab_type": "code",
        "outputId": "246001e9-8540-4162-848a-5852395c96a9",
        "colab": {
          "base_uri": "https://localhost:8080/",
          "height": 1000
        }
      },
      "source": [
        "!rm -rf bert-chinese-qa*\n",
        "!wget 140.112.21.20:8000/bert-chinese-qa.tar.gz\n",
        "!tar -zxvf bert-chinese-qa.tar.gz"
      ],
      "execution_count": 0,
      "outputs": [
        {
          "output_type": "stream",
          "text": [
            "--2019-08-14 07:56:42--  http://140.112.21.20:8000/bert-chinese-qa.tar.gz\n",
            "Connecting to 140.112.21.20:8000... connected.\n",
            "HTTP request sent, awaiting response... 200 OK\n",
            "Length: 382011557 (364M) [application/gzip]\n",
            "Saving to: ‘bert-chinese-qa.tar.gz’\n",
            "\n",
            "bert-chinese-qa.tar 100%[===================>] 364.31M  5.77MB/s    in 1m 59s  \n",
            "\n",
            "2019-08-14 07:58:41 (3.07 MB/s) - ‘bert-chinese-qa.tar.gz’ saved [382011557/382011557]\n",
            "\n",
            "bert-chinese-qa/\n",
            "bert-chinese-qa/config.json\n",
            "bert-chinese-qa/pytorch_model.bin\n",
            "bert-chinese-qa/special_tokens_map.json\n",
            "bert-chinese-qa/added_tokens.json\n",
            "bert-chinese-qa/vocab.txt\n",
            "bert-chinese-qa/training_args.bin\n",
            "bert-chinese-qa/predictions_.json\n",
            "bert-chinese-qa/nbest_predictions_.json\n"
          ],
          "name": "stdout"
        }
      ]
    },
    {
      "cell_type": "code",
      "metadata": {
        "id": "4YT_9HJR_8c6",
        "colab_type": "code",
        "colab": {}
      },
      "source": [
        "import torch\n",
        "from torch.utils.data import (DataLoader, RandomSampler, SequentialSampler,\n",
        "                              TensorDataset)\n",
        "\n",
        "\n",
        "def to_list(tensor):\n",
        "    return tensor.detach().cpu().tolist()\n",
        " \n",
        "\n",
        "def _get_best_indexes(logits, n_best_size=1):\n",
        "    \"\"\"Get the n-best logits from a list.\"\"\"\n",
        "    index_and_score = sorted(enumerate(logits), key=lambda x: x[1], reverse=True)\n",
        "\n",
        "    best_indexes = []\n",
        "    for i in range(len(index_and_score)):\n",
        "        if i >= n_best_size:\n",
        "            break\n",
        "        best_indexes.append(index_and_score[i][0])\n",
        "    return best_indexes\n",
        " \n",
        "\n",
        "def evaluate(dataset, model, tokenizer):\n",
        "    eval_sampler = SequentialSampler(dataset)\n",
        "    eval_dataloader = DataLoader(dataset, sampler=eval_sampler, batch_size=1)\n",
        "\n",
        "    # Eval!\n",
        "    all_results = []\n",
        "    for batch in eval_dataloader:\n",
        "        model.eval()\n",
        "        batch = tuple(t.to(device) for t in batch)\n",
        "        with torch.no_grad():\n",
        "            inputs = {'input_ids':      batch[0],\n",
        "                      'attention_mask': batch[1],\n",
        "                      'token_type_ids': batch[2],\n",
        "                      }\n",
        "            example_indices = batch[3]\n",
        "            outputs = model(**inputs)\n",
        "            start_logits = to_list(outputs[0][0])\n",
        "            end_logits   = to_list(outputs[1][0])\n",
        "            start_indexes = _get_best_indexes(start_logits)\n",
        "            end_indexes = _get_best_indexes(end_logits)\n",
        "    return (start_indexes, end_indexes)\n",
        "  \n",
        "  \n",
        "  "
      ],
      "execution_count": 0,
      "outputs": []
    },
    {
      "cell_type": "code",
      "metadata": {
        "id": "h_Dbex7fqbsj",
        "colab_type": "code",
        "colab": {}
      },
      "source": [
        "import collections\n",
        "\n",
        "from torch.utils.data import TensorDataset\n",
        "\n",
        "\n",
        "\n",
        "\n",
        "def _check_is_max_context(doc_spans, cur_span_index, position):\n",
        "    \"\"\"Check if this is the 'max context' doc span for the token.\"\"\"\n",
        "\n",
        "    # Because of the sliding window approach taken to scoring documents, a single\n",
        "    # token can appear in multiple documents. E.g.\n",
        "    #  Doc: the man went to the store and bought a gallon of milk\n",
        "    #  Span A: the man went to the\n",
        "    #  Span B: to the store and bought\n",
        "    #  Span C: and bought a gallon of\n",
        "    #  ...\n",
        "    #\n",
        "    # Now the word 'bought' will have two scores from spans B and C. We only\n",
        "    # want to consider the score with \"maximum context\", which we define as\n",
        "    # the *minimum* of its left and right context (the *sum* of left and\n",
        "    # right context will always be the same, of course).\n",
        "    #\n",
        "    # In the example the maximum context for 'bought' would be span C since\n",
        "    # it has 1 left context and 3 right context, while span B has 4 left context\n",
        "    # and 0 right context.\n",
        "    best_score = None\n",
        "    best_span_index = None\n",
        "    for (span_index, doc_span) in enumerate(doc_spans):\n",
        "        end = doc_span.start + doc_span.length - 1\n",
        "        if position < doc_span.start:\n",
        "            continue\n",
        "        if position > end:\n",
        "            continue\n",
        "        num_left_context = position - doc_span.start\n",
        "        num_right_context = end - position\n",
        "        score = min(num_left_context, num_right_context) + 0.01 * doc_span.length\n",
        "        if best_score is None or score > best_score:\n",
        "            best_score = score\n",
        "            best_span_index = span_index\n",
        "\n",
        "    return cur_span_index == best_span_index\n",
        "\n",
        "\n",
        "def convert_examples_to_features(tokenizer, question_text, doc_tokens, max_seq_length=384,\n",
        "                                 doc_stride=128, max_query_length=64,\n",
        "                                 cls_token_at_end=False,\n",
        "                                 cls_token='[CLS]', sep_token='[SEP]', pad_token=0,\n",
        "                                 sequence_a_segment_id=0, sequence_b_segment_id=1,\n",
        "                                 cls_token_segment_id=0, pad_token_segment_id=0,\n",
        "                                 mask_padding_with_zero=True):\n",
        "    \"\"\"Loads a data file into a list of `InputBatch`s.\"\"\"\n",
        "    query_tokens = tokenizer.tokenize(question_text)\n",
        "    if len(query_tokens) > max_query_length:\n",
        "      query_tokens = query_tokens[0:max_query_length]\n",
        "    tok_to_orig_index = []\n",
        "    orig_to_tok_index = []\n",
        "    all_doc_tokens = []\n",
        "    for (i, token) in enumerate(doc_tokens):\n",
        "        orig_to_tok_index.append(len(all_doc_tokens))\n",
        "        sub_tokens = tokenizer.tokenize(token)\n",
        "        for sub_token in sub_tokens:\n",
        "            tok_to_orig_index.append(i)\n",
        "            all_doc_tokens.append(sub_token)\n",
        "\n",
        "    # The -3 accounts for [CLS], [SEP] and [SEP]\n",
        "    max_tokens_for_doc = max_seq_length - len(query_tokens) - 3\n",
        "\n",
        "    # We can have documents that are longer than the maximum sequence length.\n",
        "    # To deal with this we do a sliding window approach, where we take chunks\n",
        "    # of the up to our max length with a stride of `doc_stride`.\n",
        "    _DocSpan = collections.namedtuple(  # pylint: disable=invalid-name\n",
        "        \"DocSpan\", [\"start\", \"length\"])\n",
        "    doc_spans = []\n",
        "    start_offset = 0\n",
        "    while start_offset < len(all_doc_tokens):\n",
        "        length = len(all_doc_tokens) - start_offset\n",
        "        if length > max_tokens_for_doc:\n",
        "            length = max_tokens_for_doc\n",
        "        doc_spans.append(_DocSpan(start=start_offset, length=length))\n",
        "        if start_offset + length == len(all_doc_tokens):\n",
        "            break\n",
        "        start_offset += min(length, doc_stride)\n",
        "\n",
        "    for (doc_span_index, doc_span) in enumerate(doc_spans):\n",
        "        tokens = []\n",
        "        token_to_orig_map = {}\n",
        "        token_is_max_context = {}\n",
        "        segment_ids = []\n",
        "\n",
        "        # p_mask: mask with 1 for token than cannot be in the answer (0 for token which can be in an answer)\n",
        "        # Original TF implem also keep the classification token (set to 0) (not sure why...)\n",
        "        p_mask = []\n",
        "\n",
        "        # CLS token at the beginning\n",
        "        if not cls_token_at_end:\n",
        "            tokens.append(cls_token)\n",
        "            segment_ids.append(cls_token_segment_id)\n",
        "            p_mask.append(0)\n",
        "            cls_index = 0\n",
        "\n",
        "        # Query\n",
        "        for token in query_tokens:\n",
        "            tokens.append(token)\n",
        "            segment_ids.append(sequence_a_segment_id)\n",
        "            p_mask.append(1)\n",
        "\n",
        "        # SEP token\n",
        "        tokens.append(sep_token)\n",
        "        segment_ids.append(sequence_a_segment_id)\n",
        "        p_mask.append(1)\n",
        "\n",
        "        # Paragraph\n",
        "        for i in range(doc_span.length):\n",
        "            split_token_index = doc_span.start + i\n",
        "            token_to_orig_map[len(tokens)] = tok_to_orig_index[split_token_index]\n",
        "\n",
        "            is_max_context = _check_is_max_context(doc_spans, doc_span_index,\n",
        "                                                   split_token_index)\n",
        "            token_is_max_context[len(tokens)] = is_max_context\n",
        "            tokens.append(all_doc_tokens[split_token_index])\n",
        "            segment_ids.append(sequence_b_segment_id)\n",
        "            p_mask.append(0)\n",
        "        paragraph_len = doc_span.length\n",
        "\n",
        "        # SEP token\n",
        "        tokens.append(sep_token)\n",
        "        segment_ids.append(sequence_b_segment_id)\n",
        "        p_mask.append(1)\n",
        "\n",
        "        # CLS token at the end\n",
        "        if cls_token_at_end:\n",
        "            tokens.append(cls_token)\n",
        "            segment_ids.append(cls_token_segment_id)\n",
        "            p_mask.append(0)\n",
        "            cls_index = len(tokens) - 1  # Index of classification token\n",
        "\n",
        "        input_ids = tokenizer.convert_tokens_to_ids(tokens)\n",
        "\n",
        "        # The mask has 1 for real tokens and 0 for padding tokens. Only real\n",
        "        # tokens are attended to.\n",
        "        input_mask = [1 if mask_padding_with_zero else 0] * len(input_ids)\n",
        "\n",
        "        # Zero-pad up to the sequence length.\n",
        "        while len(input_ids) < max_seq_length:\n",
        "            input_ids.append(pad_token)\n",
        "            input_mask.append(0 if mask_padding_with_zero else 1)\n",
        "            segment_ids.append(pad_token_segment_id)\n",
        "            p_mask.append(1)\n",
        "\n",
        "        assert len(input_ids) == max_seq_length\n",
        "        assert len(input_mask) == max_seq_length\n",
        "        assert len(segment_ids) == max_seq_length\n",
        "    input_ids = torch.tensor([input_ids], dtype=torch.long)\n",
        "    input_mask = torch.tensor([input_mask], dtype=torch.long)\n",
        "    segment_ids = torch.tensor([segment_ids], dtype=torch.long)\n",
        "    cls_index = torch.tensor([cls_index], dtype=torch.long)\n",
        "    p_mask = torch.tensor([p_mask], dtype=torch.float)\n",
        "    example_index = torch.arange(input_ids.size(0), dtype=torch.long)\n",
        "    data = TensorDataset(input_ids, input_mask, segment_ids,\n",
        "                            example_index, cls_index, p_mask)\n",
        "\n",
        "\n",
        "    print(\"*** Example ***\")\n",
        "    # print(\"doc_span_index: %s\" % (doc_span_index))\n",
        "    print(\"tokens: %s\" % \" \".join(tokens))\n",
        "    # print(\"token_to_orig_map: %s\" % \" \".join([\n",
        "    #                 \"%d:%d\" % (x, y) for (x, y) in token_to_orig_map.items()]))\n",
        "    # print(\"token_is_max_context: %s\" % \" \".join([\n",
        "    #                 \"%d:%s\" % (x, y) for (x, y) in token_is_max_context.items()\n",
        "    #             ]))\n",
        "    # print(\"input_ids: %s\" % \" \".join([str(x) for x in input_ids]))\n",
        "    # print(\"input_mask: %s\" % \" \".join([str(x) for x in input_mask]))\n",
        "    # print(\"segment_ids: %s\" % \" \".join([str(x) for x in segment_ids]))\n",
        "\n",
        "    return data, tokens"
      ],
      "execution_count": 0,
      "outputs": []
    },
    {
      "cell_type": "code",
      "metadata": {
        "id": "mJqcTOlBmkp5",
        "colab_type": "code",
        "outputId": "7f4be665-77a2-4ab8-96eb-0f268597d488",
        "colab": {
          "base_uri": "https://localhost:8080/",
          "height": 34
        }
      },
      "source": [
        "# 因為要我們今天要跑的是中文QA 所以只有Bert可以用\n",
        "import torch\n",
        "from pytorch_transformers import (WEIGHTS_NAME, BertConfig,\n",
        "                                  BertForQuestionAnswering, BertTokenizer)\n",
        "\n",
        "\n",
        "device = torch.device(\"cuda\")\n",
        "\n",
        "checkpoint = 'bert-chinese-qa'\n",
        "config_class, model_class, tokenizer_class = BertConfig, BertForQuestionAnswering, BertTokenizer\n",
        "model = model_class.from_pretrained(checkpoint).to(device)\n",
        "tokenizer = tokenizer_class.from_pretrained('bert-base-chinese', do_lower_case=True)"
      ],
      "execution_count": 0,
      "outputs": [
        {
          "output_type": "stream",
          "text": [
            "100%|██████████| 109540/109540 [00:00<00:00, 1335868.92B/s]\n"
          ],
          "name": "stderr"
        }
      ]
    },
    {
      "cell_type": "code",
      "metadata": {
        "id": "L6kLJIKjB0jG",
        "colab_type": "code",
        "outputId": "3eb3355c-6a03-48f1-ea4e-515f8d221556",
        "colab": {
          "base_uri": "https://localhost:8080/",
          "height": 108
        }
      },
      "source": [
        "context = '國立臺灣大學，簡稱臺大、NTU，是臺灣第一所現代綜合大學，為臺灣學生人數最多的高等教育機構。其始於1928年日治時代中期創校的「臺北帝國大學」[注 1]，1945年中華民國接收臺灣後經改制與兩次易名始用現名。現設有11個學院、3個專業學院，下分54個學系、109個研究所；另設有30餘個各學術領域之國家級或校級研究中心，以及進修推廣部、臺大醫院等附屬機構，是全臺唯一學生人數超過三萬的高等教育學校[11][14]。目前亦為高教深耕計畫中參與全球鏈結全校型計畫的4所學校之一[15][16]。2020年QS世界大學排名位居第69名。此外，臺大擁有臺北市境內的3大校區、以及多處散布於全臺的分支校區與校地，總面積約3萬4千公頃，佔臺灣土地總面積的百分之一。'\n",
        "context = '與2019年的柯文哲所創立的台灣民眾黨並無任何關係，不過柯文哲使用此名是有其象徵性的涵義，並且正式創黨日8月6日是蔣渭水和柯文哲的生日。然而蔣渭水遠親後人及蔣渭水文化基金會表達強烈反對，認為這嚴重玷污了自己的先祖。[5][6]'\n",
        "question = '誰創立了台灣民眾黨？'\n",
        "data, tokens = convert_examples_to_features(tokenizer=tokenizer, question_text=question, doc_tokens=context)\n",
        "start, end = evaluate(data, model, tokenizer)\n",
        "\"\".join(tokens[start[0]: end[0]+1])"
      ],
      "execution_count": 0,
      "outputs": [
        {
          "output_type": "stream",
          "text": [
            "*** Example ***\n",
            "tokens: [CLS] 誰 創 立 了 台 灣 民 眾 黨 ？ [SEP] 與 2 0 1 9 年 的 柯 文 哲 所 創 立 的 台 灣 民 眾 黨 並 無 任 何 關 係 ， 不 過 柯 文 哲 使 用 此 名 是 有 其 象 徵 性 的 涵 義 ， 並 且 正 式 創 黨 日 8 月 6 日 是 蔣 渭 水 和 柯 文 哲 的 生 日 。 然 而 蔣 渭 水 遠 親 後 人 及 蔣 渭 水 文 化 基 金 會 表 達 強 烈 反 對 ， 認 為 這 嚴 重 玷 污 了 自 己 的 先 祖 。 [ 5 ] [ 6 ] [SEP]\n"
          ],
          "name": "stdout"
        },
        {
          "output_type": "execute_result",
          "data": {
            "text/plain": [
              "'[CLS]誰創立了台灣民眾黨？[SEP]與2019年的柯文哲'"
            ]
          },
          "metadata": {
            "tags": []
          },
          "execution_count": 13
        }
      ]
    },
    {
      "cell_type": "code",
      "metadata": {
        "id": "VIjG57MsT2BC",
        "colab_type": "code",
        "outputId": "2eecdb3d-dcab-41e3-97a7-4a4a21cb444c",
        "colab": {
          "base_uri": "https://localhost:8080/",
          "height": 108
        }
      },
      "source": [
        "question = '台大面積有多大？'\n",
        "data, tokens = convert_examples_to_features(tokenizer=tokenizer, question_text=question, doc_tokens=context)\n",
        "start, end = evaluate(data, model, tokenizer)\n",
        "\"\".join(tokens[start[0]: end[0]+1])"
      ],
      "execution_count": 0,
      "outputs": [
        {
          "output_type": "stream",
          "text": [
            "*** Example ***\n",
            "tokens: [CLS] 台 大 面 積 有 多 大 ？ [SEP] 國 立 臺 灣 大 學 ， 簡 稱 臺 大 、 n t u ， 是 臺 灣 第 一 所 現 代 綜 合 大 學 ， 為 臺 灣 學 生 人 數 最 多 的 高 等 教 育 機 構 。 其 始 於 1 9 2 8 年 日 治 時 代 中 期 創 校 的 「 臺 北 帝 國 大 學 」 [ 注 1 ] ， 1 9 4 5 年 中 華 民 國 接 收 臺 灣 後 經 改 制 與 兩 次 易 名 始 用 現 名 。 現 設 有 1 1 個 學 院 、 3 個 專 業 學 院 ， 下 分 5 4 個 學 系 、 1 0 9 個 研 究 所 ； 另 設 有 3 0 餘 個 各 學 術 領 域 之 國 家 級 或 校 級 研 究 中 心 ， 以 及 進 修 推 廣 部 、 臺 大 醫 院 等 附 屬 機 構 ， 是 全 臺 唯 一 學 生 人 數 超 過 三 萬 的 高 等 教 育 學 校 [ 1 1 ] [ 1 4 ] 。 目 前 亦 為 高 教 深 耕 計 畫 中 參 與 全 球 鏈 結 全 校 型 計 畫 的 4 所 學 校 之 一 [ 1 5 ] [ 1 6 ] 。 2 0 2 0 年 q s 世 界 大 學 排 名 位 居 第 6 9 名 。 此 外 ， 臺 大 擁 有 臺 北 市 境 內 的 3 大 校 區 、 以 及 多 處 散 布 於 全 臺 的 分 支 校 區 與 校 地 ， 總 面 積 約 3 萬 4 千 公 頃 ， 佔 臺 灣 土 地 總 面 積 的 百 分 之 一 。 [SEP]\n"
          ],
          "name": "stdout"
        },
        {
          "output_type": "execute_result",
          "data": {
            "text/plain": [
              "'3萬4千公頃'"
            ]
          },
          "metadata": {
            "tags": []
          },
          "execution_count": 10
        }
      ]
    }
  ]
}